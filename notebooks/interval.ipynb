{
 "cells": [
  {
   "cell_type": "code",
   "execution_count": 1,
   "metadata": {},
   "outputs": [
    {
     "output_type": "stream",
     "name": "stdout",
     "text": "Finished\n"
    }
   ],
   "source": [
    "# Add analysis to the path\n",
    "import sys\n",
    "sys.path.append(\"/home/jazev/dev/analysis\")\n",
    "\n",
    "import matplotlib.pyplot as plt\n",
    "import parsers\n",
    "from typing import *\n",
    "from aggregation import *\n",
    "from pprint import pprint\n",
    "from multiprocessing import Pool, cpu_count\n",
    "\n",
    "path_to_results = \"/home/jazev/dev/automation/archive\"\n",
    "working_dir = \"/home/jazev/dev/analysis/working\"\n",
    "data = parsers.main(path_to_results, working_dir=working_dir)\n",
    "print(\"Finished\")"
   ]
  },
  {
   "cell_type": "code",
   "execution_count": 2,
   "metadata": {},
   "outputs": [],
   "source": [
    "def cpu_threshold_ts_intervals(host: parsers.TestHost, min_length: int=8, cpu_threshold: float=10, lower_threshold: bool=True) -> List[List[float]]:\n",
    "    cpu_avg = aggregate_cpu(host, sampling_period=1.0)\n",
    "\n",
    "    runs = []\n",
    "    current_run = None\n",
    "    for _, row in cpu_avg.iterrows():\n",
    "        cpu = row['cpu']\n",
    "        if (lower_threshold and cpu > cpu_threshold) or (not lower_threshold and cpu < cpu_threshold):\n",
    "            if not current_run:\n",
    "                current_run = []\n",
    "            current_run.append(row['time'])\n",
    "        else:\n",
    "            if current_run:\n",
    "                runs.append(current_run)\n",
    "                current_run = None\n",
    "    if current_run:\n",
    "        runs.append(current_run)\n",
    "    runs = [r for r in runs if len(r) > min_length]\n",
    "    intervals = [(r[0], r[-1]) for r in runs]\n",
    "    return intervals\n",
    "\n",
    "\n",
    "def describe_intervals(test: parsers.Test, top=0.10, cpu_threshold=50, idle_cpu_threshold=30) -> List[str]:\n",
    "    output = []\n",
    "    output.append(f\"==== {test.id} ====\")\n",
    "    # First, describe all intervals for the test\n",
    "    hosts = flatten(replica.hosts.values() for replica in test.replicas)\n",
    "    all_host_intervals = [host_collection_intervals(host) for host in hosts]\n",
    "    all_container_intervals = flatten(all_host_intervals)\n",
    "    all_intervals = flatten(all_container_intervals)\n",
    "    intervals, _ = zip(*all_intervals)\n",
    "    intervals_df = pd.DataFrame({'Read deltas (ms)': intervals})\n",
    "    output.append(str(intervals_df.describe(include='all')))\n",
    "\n",
    "    # Second, describe top percentage of intervals\n",
    "    top_percent = []\n",
    "    for container_list in all_container_intervals:\n",
    "        container_intervals, _ = zip(*container_list)\n",
    "        limit = np.quantile(container_intervals, 1 - top)\n",
    "        top_percent.extend(i for i in container_intervals if i > limit)\n",
    "    top_percent_df = pd.DataFrame({f'Top {top*100:.1f}% container read deltas (ms)': top_percent})\n",
    "    output.append(str(top_percent_df.describe(include='all')))\n",
    "\n",
    "    # Third, describe all intervals under load\n",
    "    under_load = []\n",
    "    for host, host_intervals in zip(hosts, all_host_intervals):\n",
    "        threshold_intervals = cpu_threshold_ts_intervals(host, cpu_threshold=cpu_threshold)\n",
    "        for container_list in host_intervals:\n",
    "            for interval, timestamp in container_list:\n",
    "                for lower, upper in threshold_intervals:\n",
    "                    if lower <= timestamp <= upper:\n",
    "                        under_load.append(interval)\n",
    "                        break\n",
    "    under_load_df = pd.DataFrame({f'Read deltas undder load (> {cpu_threshold:.1f}% CPU) (ms)': under_load})\n",
    "    output.append(str(under_load_df.describe(include='all')))\n",
    "\n",
    "    # Fourth, describe all intervals at idle\n",
    "    at_idle = []\n",
    "    for host, host_intervals in zip(hosts, all_host_intervals):\n",
    "        threshold_intervals = cpu_threshold_ts_intervals(host, cpu_threshold=idle_cpu_threshold, lower_threshold=False)\n",
    "        for container_list in host_intervals:\n",
    "            for interval, timestamp in container_list:\n",
    "                for lower, upper in threshold_intervals:\n",
    "                    if lower <= timestamp <= upper:\n",
    "                        at_idle.append(interval)\n",
    "                        break\n",
    "    at_idle_df = pd.DataFrame({f'Read deltas at idle (< {idle_cpu_threshold:.1f}% CPU) (ms)': at_idle})\n",
    "    output.append(str(at_idle_df.describe(include='all')))\n",
    "    output.append(f\"=================\")\n",
    "    return output"
   ]
  },
  {
   "cell_type": "code",
   "execution_count": 3,
   "metadata": {
    "tags": [
     "outputPrepend",
     "outputPrepend",
     "outputPrepend",
     "outputPrepend",
     "outputPrepend",
     "outputPrepend",
     "outputPrepend",
     "outputPrepend",
     "outputPrepend",
     "outputPrepend",
     "outputPrepend",
     "outputPrepend",
     "outputPrepend"
    ]
   },
   "outputs": [
    {
     "output_type": "stream",
     "name": "stdout",
     "text": "==== d-rc-50 ====\n       Read deltas (ms)\ncount     410101.000000\nmean          50.121165\nstd            0.902472\nmin            0.341797\n25%           50.056152\n50%           50.073486\n75%           50.091553\nmax          101.172119\n       Top 10.0% container read deltas (ms)\ncount                          40825.000000\nmean                              50.831908\nstd                                1.945786\nmin                               50.095703\n25%                               50.121094\n50%                               50.164307\n75%                               50.543701\nmax                              101.172119\n       Read deltas undder load (> 50.0% CPU) (ms)\ncount                               387993.000000\nmean                                    50.124118\nstd                                      0.920509\nmin                                      0.341797\n25%                                     50.056152\n50%                                     50.074219\n75%                                     50.092285\nmax                                    101.172119\n       Read deltas at idle (< 30.0% CPU) (ms)\ncount                             1600.000000\nmean                                50.070934\nstd                                  0.042405\nmin                                 49.699219\n25%                                 50.067383\n50%                                 50.072266\n75%                                 50.074707\nmax                                 51.490967\n=================\n0/11 done\n==== d-rc-100 ====\n       Read deltas (ms)\ncount     409691.000000\nmean          50.098830\nstd            0.427273\nmin           11.565186\n25%           50.068604\n50%           50.073242\n75%           50.077148\nmax           88.527344\n       Top 10.0% container read deltas (ms)\ncount                          40260.000000\nmean                              50.438281\nstd                                1.008208\nmin                               50.072998\n25%                               50.088379\n50%                               50.108398\n75%                               50.462952\nmax                               88.527344\n       Read deltas undder load (> 50.0% CPU) (ms)\ncount                               388732.000000\nmean                                    50.100309\nstd                                      0.437245\nmin                                     11.565186\n25%                                     50.068848\n50%                                     50.073486\n75%                                     50.077148\nmax                                     88.527344\n       Read deltas at idle (< 30.0% CPU) (ms)\ncount                             1039.000000\nmean                                50.069051\nstd                                  0.016484\nmin                                 49.995361\n25%                                 50.063232\n50%                                 50.071777\n75%                                 50.074707\nmax                                 50.110840\n=================\n0/11 done\n==== d-mc-50 ====\n       Read deltas (ms)\ncount     324180.000000\nmean          63.171310\nstd           12.443911\nmin           51.543945\n25%           58.242676\n50%           60.910156\n75%           66.220032\nmax          749.982910\n       Top 10.0% container read deltas (ms)\ncount                          32447.000000\nmean                              81.392507\nstd                               30.948790\nmin                               70.232666\n25%                               75.450317\n50%                               77.947510\n75%                               81.937378\nmax                              749.982910\n       Read deltas undder load (> 50.0% CPU) (ms)\ncount                               309117.000000\nmean                                    63.272745\nstd                                      7.620814\nmin                                     51.638184\n25%                                     58.411377\n50%                                     61.138428\n75%                                     66.575195\nmax                                    168.371582\n       Read deltas at idle (< 30.0% CPU) (ms)\ncount                              104.000000\nmean                                52.364800\nstd                                  0.868950\nmin                                 51.820068\n25%                                 51.961548\n50%                                 52.053711\n75%                                 52.260132\nmax                                 57.268799\n=================\n0/11 done\n==== d-mc-100 ====\n       Read deltas (ms)\ncount     316385.000000\nmean          64.720637\nstd           13.918868\nmin           51.626221\n25%           59.055176\n50%           62.022949\n75%           68.331787\nmax          733.197998\n       Top 10.0% container read deltas (ms)\ncount                          31666.000000\nmean                              86.505118\nstd                               33.419669\nmin                               70.051025\n25%                               78.555237\n50%                               81.460571\n75%                               86.830566\nmax                              733.197998\n       Read deltas undder load (> 50.0% CPU) (ms)\ncount                               300570.000000\nmean                                    64.914680\nstd                                      9.860203\nmin                                     51.824463\n25%                                     59.390869\n50%                                     62.319336\n75%                                     68.830261\nmax                                    322.358887\n       Read deltas at idle (< 30.0% CPU) (ms)\ncount                              139.000000\nmean                                60.557247\nstd                                 62.510976\nmin                                 51.829102\n25%                                 51.977539\n50%                                 52.124023\n75%                                 53.692871\nmax                                587.523926\n=================\n0/11 done\n==== i-rc-100 ====\n       Read deltas (ms)\ncount     426687.000000\nmean          50.068690\nstd            0.423812\nmin            0.354248\n25%           50.064941\n50%           50.066895\n75%           50.068359\nmax          100.013672\n       Top 10.0% container read deltas (ms)\ncount                          39662.000000\nmean                              50.141362\nstd                                1.018572\nmin                               50.065674\n25%                               50.070068\n50%                               50.072998\n75%                               50.077148\nmax                              100.013672\n       Read deltas undder load (> 50.0% CPU) (ms)\ncount                               424557.000000\nmean                                    50.068686\nstd                                      0.424867\nmin                                      0.354248\n25%                                     50.064941\n50%                                     50.066895\n75%                                     50.068359\nmax                                    100.013672\n       Read deltas at idle (< 30.0% CPU) (ms)\ncount                             1364.000000\nmean                                50.070258\nstd                                  0.015391\nmin                                 49.997314\n25%                                 50.067139\n50%                                 50.072021\n75%                                 50.074707\nmax                                 50.128662\n=================\n0/11 done\n==== i-mc-100 ====\n       Read deltas (ms)\ncount     356545.000000\nmean          61.782524\nstd           12.063904\nmin           51.352295\n25%           56.750732\n50%           59.196777\n75%           64.152100\nmax         1523.851074\n       Top 10.0% container read deltas (ms)\ncount                          35683.000000\nmean                              80.535263\nstd                               29.341254\nmin                               65.419434\n25%                               73.949951\n50%                               76.298096\n75%                               80.684448\nmax                             1523.851074\n       Read deltas undder load (> 50.0% CPU) (ms)\ncount                               356467.000000\nmean                                    61.784579\nstd                                     12.064407\nmin                                     51.352295\n25%                                     56.753174\n50%                                     59.200928\n75%                                     64.154053\nmax                                   1523.851074\n       Read deltas at idle (< 30.0% CPU) (ms)\ncount                                     0.0\nmean                                      NaN\nstd                                       NaN\nmin                                       NaN\n25%                                       NaN\n50%                                       NaN\n75%                                       NaN\nmax                                       NaN\n=================\n0/11 done\n==== i-rc-50 ====\n       Read deltas (ms)\ncount     834814.000000\nmean          50.078785\nstd            0.444052\nmin            1.142090\n25%           50.057861\n50%           50.068604\n75%           50.075684\nmax           99.202881\n       Top 10.0% container read deltas (ms)\ncount                          82644.000000\nmean                              50.293728\nstd                                1.133436\nmin                               50.077637\n25%                               50.091064\n50%                               50.098145\n75%                               50.108154\nmax                               99.202881\n       Read deltas undder load (> 50.0% CPU) (ms)\ncount                               831111.000000\nmean                                    50.078837\nstd                                      0.445037\nmin                                      1.142090\n25%                                     50.057861\n50%                                     50.068604\n75%                                     50.075684\nmax                                     99.202881\n       Read deltas at idle (< 30.0% CPU) (ms)\ncount                             2009.000000\nmean                                50.067707\nstd                                  0.019388\nmin                                 49.970459\n25%                                 50.058594\n50%                                 50.071289\n75%                                 50.075195\nmax                                 50.158936\n=================\n0/11 done\n==== i-mc-50 ====\n       Read deltas (ms)\ncount     676048.000000\nmean          60.222013\nstd            8.137331\nmin           51.435547\n25%           56.985596\n50%           58.767090\n75%           62.124512\nmax          691.882812\n       Top 10.0% container read deltas (ms)\ncount                          67629.000000\nmean                              74.007836\nstd                               18.590592\nmin                               64.049561\n25%                               69.444092\n50%                               71.976318\n75%                               75.528076\nmax                              691.882812\n       Read deltas undder load (> 50.0% CPU) (ms)\ncount                               675861.000000\nmean                                    60.224216\nstd                                      8.137370\nmin                                     51.435547\n25%                                     56.987305\n50%                                     58.768311\n75%                                     62.125732\nmax                                    691.882812\n       Read deltas at idle (< 30.0% CPU) (ms)\ncount                                     0.0\nmean                                      NaN\nstd                                       NaN\nmin                                       NaN\n25%                                       NaN\n50%                                       NaN\n75%                                       NaN\nmax                                       NaN\n=================\n0/11 done\n==== ii-mc-s ====\n       Read deltas (ms)\ncount     601736.000000\nmean          52.253134\nstd            1.015984\nmin           51.563965\n25%           51.965820\n50%           52.033203\n75%           52.138916\nmax          218.396729\n       Top 10.0% container read deltas (ms)\ncount                          60190.000000\nmean                              54.117962\nstd                                2.507911\nmin                               52.621826\n25%                               53.430237\n50%                               53.676270\n75%                               54.032715\nmax                              218.396729\n       Read deltas undder load (> 50.0% CPU) (ms)\ncount                                         0.0\nmean                                          NaN\nstd                                           NaN\nmin                                           NaN\n25%                                           NaN\n50%                                           NaN\n75%                                           NaN\nmax                                           NaN\n       Read deltas at idle (< 30.0% CPU) (ms)\ncount                           432702.000000\nmean                                52.245297\nstd                                  0.783270\nmin                                 51.563965\n25%                                 51.955811\n50%                                 52.017090\n75%                                 52.115234\nmax                                131.510742\n=================\n0/11 done\n==== ii-rc-b ====\n       Read deltas (ms)\ncount     664437.000000\nmean          50.067015\nstd            0.024187\nmin           45.398682\n25%           50.059082\n50%           50.069824\n75%           50.074219\nmax           54.737061\n       Top 10.0% container read deltas (ms)\ncount                          65910.000000\nmean                              50.100019\nstd                                0.042504\nmin                               50.088379\n25%                               50.096191\n50%                               50.098389\n75%                               50.100586\nmax                               54.737061\n       Read deltas undder load (> 50.0% CPU) (ms)\ncount                                         0.0\nmean                                          NaN\nstd                                           NaN\nmin                                           NaN\n25%                                           NaN\n50%                                           NaN\n75%                                           NaN\nmax                                           NaN\n       Read deltas at idle (< 30.0% CPU) (ms)\ncount                           635238.000000\nmean                                50.067046\nstd                                  0.023165\nmin                                 45.398682\n25%                                 50.059082\n50%                                 50.070068\n75%                                 50.074219\nmax                                 54.737061\n=================\n0/11 done\n==== ii-rc-s ====\n       Read deltas (ms)\ncount     669587.000000\nmean          50.067076\nstd            0.028522\nmin           43.239990\n25%           50.058594\n50%           50.069824\n75%           50.074463\nmax           56.900391\n       Top 10.0% container read deltas (ms)\ncount                          66355.000000\nmean                              50.101116\nstd                                0.056108\nmin                               50.090088\n25%                               50.096191\n50%                               50.098389\n75%                               50.100830\nmax                               56.900391\n       Read deltas undder load (> 50.0% CPU) (ms)\ncount                                         0.0\nmean                                          NaN\nstd                                           NaN\nmin                                           NaN\n25%                                           NaN\n50%                                           NaN\n75%                                           NaN\nmax                                           NaN\n       Read deltas at idle (< 30.0% CPU) (ms)\ncount                           648358.000000\nmean                                50.067038\nstd                                  0.026854\nmin                                 43.239990\n25%                                 50.058350\n50%                                 50.069824\n75%                                 50.074463\nmax                                 56.900391\n=================\n0/11 done\n==== ii-mc-b ====\n       Read deltas (ms)\ncount     793131.000000\nmean          52.323397\nstd            1.071632\nmin           51.537354\n25%           51.965576\n50%           52.037354\n75%           52.168457\nmax          173.842041\n       Top 10.0% container read deltas (ms)\ncount                          79341.000000\nmean                              54.241403\nstd                                2.515768\nmin                               52.637207\n25%                               53.446777\n50%                               53.691650\n75%                               54.134033\nmax                              173.842041\n       Read deltas undder load (> 50.0% CPU) (ms)\ncount                                  646.000000\nmean                                    54.269086\nstd                                      1.841188\nmin                                     53.308350\n25%                                     53.590515\n50%                                     53.745850\n75%                                     53.942261\nmax                                     70.603027\n       Read deltas at idle (< 30.0% CPU) (ms)\ncount                           521685.000000\nmean                                52.241514\nstd                                  0.778698\nmin                                 51.541260\n25%                                 51.951172\n50%                                 52.012207\n75%                                 52.110107\nmax                                 90.244141\n=================\n0/11 done\n"
    }
   ],
   "source": [
    "tests = [\"d-rc-50\", \"d-rc-100\", \"d-mc-50\", \"d-mc-100\", \"i-rc-50\", \"i-rc-100\", \"i-mc-50\", \"i-mc-100\", \"ii-rc-s\", \"ii-rc-b\", \"ii-mc-s\", \"ii-mc-b\"]\n",
    "num = len(tests)\n",
    "done = 0\n",
    "with Pool(cpu_count()) as pool:\n",
    "    for output in pool.imap_unordered(describe_intervals, (data[test] for test in tests)):\n",
    "        print(\"\\n\".join(output))\n",
    "        print(f\"{done+1}/{num} done\")\n",
    "        done += 1\n"
   ]
  },
  {
   "cell_type": "code",
   "execution_count": null,
   "metadata": {},
   "outputs": [],
   "source": []
  }
 ],
 "metadata": {
  "language_info": {
   "codemirror_mode": {
    "name": "ipython",
    "version": 3
   },
   "file_extension": ".py",
   "mimetype": "text/x-python",
   "name": "python",
   "nbconvert_exporter": "python",
   "pygments_lexer": "ipython3",
   "version": "3.8.2-final"
  },
  "orig_nbformat": 2,
  "kernelspec": {
   "name": "python38264bit4c9c6e9200634aad95019bc5a2d07383",
   "display_name": "Python 3.8.2 64-bit"
  }
 },
 "nbformat": 4,
 "nbformat_minor": 2
}