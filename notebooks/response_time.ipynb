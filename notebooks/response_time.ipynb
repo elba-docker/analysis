{
 "cells": [
  {
   "cell_type": "code",
   "execution_count": 1,
   "metadata": {},
   "outputs": [
    {
     "name": "stdout",
     "output_type": "stream",
     "text": [
      "/Users/bhanugarg/Documents/school/cs4365/analysis/archive\n",
      "Extracting 10 top level archives on 4 workers\n",
      "Finished\n"
     ]
    }
   ],
   "source": [
    "# Add analysis to the path\n",
    "import sys\n",
    "import pathlib\n",
    "import os\n",
    "import numpy\n",
    "import pandas\n",
    "\n",
    "parent_dir = os.path.join(os.path.abspath(''), \"..\")\n",
    "sys.path.append(parent_dir)\n",
    "\n",
    "import parsers\n",
    "from pprint import pprint\n",
    "\n",
    "path_to_results = os.path.normpath(os.path.join(parent_dir, \"archive\"))\n",
    "print(path_to_results)\n",
    "working_dir = os.path.normpath(os.path.join(parent_dir, \"working\"))\n",
    "data = parsers.main(path_to_results, working_dir=working_dir)\n",
    "print(\"Finished\")"
   ]
  },
  {
   "cell_type": "code",
   "execution_count": 2,
   "metadata": {},
   "outputs": [
    {
     "name": "stdout",
     "output_type": "stream",
     "text": [
      "{'USERNAME': 'jazevedo', 'HOSTS_TYPE': 'physical', 'HARDWARE_TYPE': 'c8220', 'ENABLED_CPUS': 4, 'USE_PATCHED_DOCKER': 1, 'ENABLE_RADVISOR': 0, 'ENABLE_COLLECTL': 1, 'POLLING_INTERVAL': '6s', 'COLLECTION_INTERVAL': 50, 'WEB_HOSTS': 'clnode081.clemson.cloudlab.us', 'POSTGRESQL_HOST': 'clnode027.clemson.cloudlab.us', 'WORKER_HOSTS': 'clnode065.clemson.cloudlab.us', 'MICROBLOG_HOSTS': 'clnode032.clemson.cloudlab.us', 'MICROBLOG_PORT': 9090, 'AUTH_HOSTS': 'clnode019.clemson.cloudlab.us', 'AUTH_PORT': 9091, 'INBOX_HOSTS': 'clnode058.clemson.cloudlab.us', 'INBOX_PORT': 9092, 'QUEUE_HOSTS': 'clnode092.clemson.cloudlab.us', 'QUEUE_PORT': 9093, 'SUB_HOSTS': 'clnode057.clemson.cloudlab.us', 'SUB_PORT': 9094, 'CLIENT_HOSTS': 'clnode024.clemson.cloudlab.us', 'WORKLOAD_CONFIG': 'conf/bursty.yml', 'SESSION_CONFIG': 'conf/session.yml', 'APACHE_PROCESSES': 8, 'APACHE_THREADSPERPROCESS': 4, 'POSTGRES_MAXCONNECTIONS': 175, 'NUM_WORKERS': 32, 'MICROBLOG_THREADPOOLSIZE': 32, 'AUTH_THREADPOOLSIZE': 32, 'INBOX_THREADPOOLSIZE': 32, 'QUEUE_THREADPOOLSIZE': 32, 'SUB_THREADPOOLSIZE': 32, 'WISE_DEBUG': 0}\n"
     ]
    }
   ],
   "source": [
    "print(data.get(\"ii-mc-b\").replicas[0].config())"
   ]
  },
  {
   "cell_type": "code",
   "execution_count": 24,
   "metadata": {},
   "outputs": [
    {
     "name": "stdout",
     "output_type": "stream",
     "text": [
      "                               rt\n",
      "0    (1587444127501208, 6.794448)\n",
      "1    (1587444151369998, 3.063709)\n",
      "2    (1587444155264196, 5.927648)\n",
      "3    (1587444165193533, 4.247859)\n",
      "4    (1587444171788381, 3.777828)\n",
      "5    (1587444171799596, 7.752259)\n",
      "6    (1587444179560374, 4.118861)\n",
      "7    (1587444186053044, 5.130821)\n",
      "8     (1587444191184189, 6.02755)\n",
      "9    (1587444191186770, 8.552886)\n",
      "10    (1587444192141449, 5.04553)\n",
      "11   (1587444199737108, 4.001442)\n",
      "12   (1587444199739969, 4.022473)\n",
      "13   (1587444199755570, 8.289352)\n",
      "14   (1587444204877932, 3.164847)\n",
      "15   (1587444208036273, 3.223494)\n",
      "16   (1587444211867915, 8.473802)\n",
      "17   (1587444220341993, 3.002522)\n",
      "18   (1587444220350419, 3.007341)\n",
      "19   (1587444229371739, 4.589605)\n",
      "20  (1587444237127184, 64.164906)\n",
      "21  (1587444237135989, 66.022832)\n",
      "22  (1587444238192897, 16.230932)\n",
      "23  (1587444238294866, 12.848894)\n",
      "24   (1587444242763161, 3.656724)\n",
      "25    (1587444242772120, 3.65875)\n",
      "26   (1587444248109129, 3.014939)\n",
      "27   (1587444251144083, 3.275778)\n",
      "28   (1587444251216241, 3.199644)\n",
      "29   (1587444254420191, 7.459838)\n",
      "30  (1587444254424144, 46.843913)\n",
      "31   (1587444263648235, 6.015108)\n",
      "32    (1587444273620139, 3.20601)\n",
      "33    (1587444273627729, 7.33236)\n",
      "34   (1587444282761432, 8.746442)\n",
      "35   (1587444285960194, 3.106408)\n",
      "36   (1587444291508203, 6.499825)\n",
      "37   (1587444303158931, 10.08512)\n",
      "38   (1587444306453280, 6.570797)\n",
      "39   (1587444307980173, 5.035732)\n",
      "40  (1587444313268277, 13.073804)\n",
      "41  (1587444314706253, 11.629622)\n",
      "42    (1587444321202930, 5.12405)\n",
      "43   (1587444326336162, 5.248269)\n",
      "44  (1587444331584727, 10.574003)\n",
      "45   (1587444339113652, 3.041621)\n",
      "46   (1587444342150916, 3.674548)\n",
      "47   (1587444342155583, 4.843933)\n",
      "48   (1587444346999795, 7.561697)\n",
      "49   (1587444348051271, 6.496787)\n",
      "50  (1587444358708204, 26.491849)\n",
      "51   (1587444362782721, 7.062478)\n",
      "52   (1587444374327021, 4.325067)\n",
      "53   (1587444387896390, 4.420935)\n",
      "54  (1587444387904043, 14.767766)\n",
      "55  (1587444402665534, 18.495458)\n",
      "56  (1587444405860424, 15.374596)\n",
      "57   (1587444415600169, 5.868376)\n"
     ]
    }
   ],
   "source": [
    "import csv\n",
    "import numpy\n",
    "import sys\n",
    "import pandas as pd\n",
    "\n",
    "\n",
    "recvfrom = data.get(\"ii-mc-b\").replicas[0].hosts[\"client\"].recvfrom()\n",
    "sendto = data.get(\"ii-mc-b\").replicas[0].hosts[\"client\"].sendto()\n",
    "connect = data.get(\"ii-mc-b\").replicas[0].hosts[\"client\"].connect()\n",
    "\n",
    "\n",
    "log_entries = []\n",
    "for i in range(len(connect)):\n",
    "    if int(connect[i].port()) == 80:\n",
    "        log_entries.append(LogEntry(\"connect\", int(connect[i].ts()), int(connect[i].sock_fd())))\n",
    "        \n",
    "for i in range(len(sendto)):     \n",
    "    log_entries.append(LogEntry(\"sendto\", int(sendto[i].ts()), int(sendto[i].sock_fd())))\n",
    "    \n",
    "for i in range(len(recvfrom)):   \n",
    "    log_entries.append(LogEntry(\"recvfrom\", int(recvfrom[i].ts()), int(recvfrom[i].sock_fd())))\n",
    "\n",
    "log_entries.sort()\n",
    "requests = []\n",
    "for i in range(len(log_entries)):\n",
    "    if log_entries[i].event() == \"connect\":\n",
    "        request = [log_entries[i]]\n",
    "        j = i + 1\n",
    "        while j < len(log_entries) and(log_entries[j].event() != \"connect\"or log_entries[i].sock_fd() != log_entries[j].sock_fd()):\n",
    "            if log_entries[i].sock_fd() == log_entries[j].sock_fd():\n",
    "                request.append(log_entries[j])\n",
    "            j += 1\n",
    "        requests.append(request)\n",
    "\n",
    "\n",
    "        \n",
    "df = pd.DataFrame({\"rt\":requests})\n",
    "\n",
    "rt_dist = []\n",
    "for request in requests:\n",
    "    if request[-1].ts() - request[0].ts() > 3000000:\n",
    "        dif = (request[-1].ts() - request[0].ts())/(1000000)\n",
    "        rt_dist.append((request[0].ts(), dif))\n",
    "#         print(request[-1].ts() - request[0].ts())\n",
    "#         continue\n",
    "#     rt_dist[int((request[-1].ts() - request[0].ts()) / 50000)] += 1\n",
    "\n",
    "df = pd.DataFrame({\"rt\":rt_dist})\n",
    "print(df)\n",
    "# for (t, count) in enumerate(rt_dist):\n",
    "#     ret.append(\"%s %s\" % (t * 50, count))\n",
    "\n",
    "# print(ret)"
   ]
  },
  {
   "cell_type": "code",
   "execution_count": null,
   "metadata": {},
   "outputs": [],
   "source": []
  }
 ],
 "metadata": {
  "kernelspec": {
   "display_name": "Python 3",
   "language": "python",
   "name": "python3"
  },
  "language_info": {
   "codemirror_mode": {
    "name": "ipython",
    "version": 3
   },
   "file_extension": ".py",
   "mimetype": "text/x-python",
   "name": "python",
   "nbconvert_exporter": "python",
   "pygments_lexer": "ipython3",
   "version": "3.7.4"
  }
 },
 "nbformat": 4,
 "nbformat_minor": 2
}
