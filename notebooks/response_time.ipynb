{
 "cells": [
  {
   "cell_type": "code",
   "execution_count": 1,
   "metadata": {},
   "outputs": [
    {
     "name": "stdout",
     "output_type": "stream",
     "text": [
      "/Users/bhanugarg/Documents/school/cs4365/analysis/archive\n",
      "Extracting 10 top level archives on 4 workers\n",
      "Finished\n"
     ]
    }
   ],
   "source": [
    "# Add analysis to the path\n",
    "import sys\n",
    "import pathlib\n",
    "import os\n",
    "import numpy\n",
    "import pandas\n",
    "\n",
    "parent_dir = os.path.join(os.path.abspath(''), \"..\")\n",
    "sys.path.append(parent_dir)\n",
    "\n",
    "import parsers\n",
    "from pprint import pprint\n",
    "\n",
    "path_to_results = os.path.normpath(os.path.join(parent_dir, \"archive\"))\n",
    "print(path_to_results)\n",
    "working_dir = os.path.normpath(os.path.join(parent_dir, \"working\"))\n",
    "data = parsers.main(path_to_results, working_dir=working_dir)\n",
    "print(\"Finished\")"
   ]
  },
  {
   "cell_type": "code",
   "execution_count": 2,
   "metadata": {},
   "outputs": [
    {
     "name": "stdout",
     "output_type": "stream",
     "text": [
      "{'USERNAME': 'jazevedo', 'HOSTS_TYPE': 'physical', 'HARDWARE_TYPE': 'c8220', 'ENABLED_CPUS': 4, 'USE_PATCHED_DOCKER': 1, 'ENABLE_RADVISOR': 0, 'ENABLE_COLLECTL': 1, 'POLLING_INTERVAL': '6s', 'COLLECTION_INTERVAL': 50, 'WEB_HOSTS': 'clnode048.clemson.cloudlab.us', 'POSTGRESQL_HOST': 'clnode054.clemson.cloudlab.us', 'WORKER_HOSTS': 'clnode072.clemson.cloudlab.us', 'MICROBLOG_HOSTS': 'clnode080.clemson.cloudlab.us', 'MICROBLOG_PORT': 9090, 'AUTH_HOSTS': 'clnode062.clemson.cloudlab.us', 'AUTH_PORT': 9091, 'INBOX_HOSTS': 'clnode053.clemson.cloudlab.us', 'INBOX_PORT': 9092, 'QUEUE_HOSTS': 'clnode094.clemson.cloudlab.us', 'QUEUE_PORT': 9093, 'SUB_HOSTS': 'clnode055.clemson.cloudlab.us', 'SUB_PORT': 9094, 'CLIENT_HOSTS': 'clnode095.clemson.cloudlab.us', 'WORKLOAD_CONFIG': 'conf/bursty.yml', 'SESSION_CONFIG': 'conf/session.yml', 'APACHE_PROCESSES': 8, 'APACHE_THREADSPERPROCESS': 4, 'POSTGRES_MAXCONNECTIONS': 175, 'NUM_WORKERS': 32, 'MICROBLOG_THREADPOOLSIZE': 32, 'AUTH_THREADPOOLSIZE': 32, 'INBOX_THREADPOOLSIZE': 32, 'QUEUE_THREADPOOLSIZE': 32, 'SUB_THREADPOOLSIZE': 32, 'WISE_DEBUG': 0}\n"
     ]
    }
   ],
   "source": [
    "print(data.get(\"ii-mc-b\").replicas[0].config())"
   ]
  },
  {
   "cell_type": "code",
   "execution_count": 27,
   "metadata": {},
   "outputs": [],
   "source": [
    "import csv\n",
    "import numpy\n",
    "import sys\n",
    "import pandas as pd\n",
    "\n",
    "class LogEntry:\n",
    "\n",
    "    def __init__(self, event, ts, sock_fd):\n",
    "        self._event = event\n",
    "        self._ts = ts\n",
    "        self._sock_fd = sock_fd\n",
    "\n",
    "    def __lt__(self, other):\n",
    "        return self._ts < other._ts\n",
    "\n",
    "    def event(self):\n",
    "        return self._event\n",
    "\n",
    "    def ts(self):\n",
    "        return self._ts\n",
    "\n",
    "    def sock_fd(self):\n",
    "        return self._sock_fd\n",
    "\n",
    "    def __repr__(self):\n",
    "        return \"[{event} -- TS: {ts}; SOCK_FD: {sock_fd}]\".format(event=self._event, ts=str(self._ts), sock_fd=str(self._sock_fd))\n",
    "\n",
    "    \n",
    "\n",
    "def aggregate(test_name, rep_num):\n",
    "    recvfrom = data.get(test_name).replicas[rep_num].hosts[\"client\"].recvfrom()\n",
    "    sendto = data.get(test_name).replicas[rep_num].hosts[\"client\"].sendto()\n",
    "    connect = data.get(test_name).replicas[rep_num].hosts[\"client\"].connect()\n",
    "\n",
    "    log_entries = []\n",
    "    for i in range(len(connect)):\n",
    "        if int(connect[i].port()) == 80:\n",
    "            log_entries.append(LogEntry(\"connect\", int(connect[i].ts()), int(connect[i].sock_fd())))\n",
    "\n",
    "    for i in range(len(sendto)):     \n",
    "        log_entries.append(LogEntry(\"sendto\", int(sendto[i].ts()), int(sendto[i].sock_fd())))\n",
    "\n",
    "    for i in range(len(recvfrom)):   \n",
    "        log_entries.append(LogEntry(\"recvfrom\", int(recvfrom[i].ts()), int(recvfrom[i].sock_fd())))\n",
    "\n",
    "    log_entries.sort()\n",
    "    requests = []\n",
    "    for i in range(len(log_entries)):\n",
    "        if log_entries[i].event() == \"connect\":\n",
    "            request = [log_entries[i]]\n",
    "            j = i + 1\n",
    "            while j < len(log_entries) and(log_entries[j].event() != \"connect\"or log_entries[i].sock_fd() != log_entries[j].sock_fd()):\n",
    "                if log_entries[i].sock_fd() == log_entries[j].sock_fd():\n",
    "                    request.append(log_entries[j])\n",
    "                j += 1\n",
    "            requests.append(request)\n",
    "\n",
    "    rt_dist = []\n",
    "    for request in requests:\n",
    "        if request[-1].ts() - request[0].ts() > 3000000:\n",
    "            dif = (request[-1].ts() - request[0].ts())/(1000000)\n",
    "            rt_dist.append((request[0].ts(), dif))\n",
    "\n",
    "    df = pd.DataFrame({test_name:rt_dist})\n",
    "    return df"
   ]
  },
  {
   "cell_type": "code",
   "execution_count": 41,
   "metadata": {},
   "outputs": [
    {
     "ename": "IndexError",
     "evalue": "list index out of range",
     "output_type": "error",
     "traceback": [
      "\u001b[0;31m---------------------------------------------------------------------------\u001b[0m",
      "\u001b[0;31mIndexError\u001b[0m                                Traceback (most recent call last)",
      "\u001b[0;32m<ipython-input-41-88af17df459e>\u001b[0m in \u001b[0;36m<module>\u001b[0;34m\u001b[0m\n\u001b[1;32m     10\u001b[0m     \u001b[0;32melse\u001b[0m\u001b[0;34m:\u001b[0m\u001b[0;34m\u001b[0m\u001b[0;34m\u001b[0m\u001b[0m\n\u001b[1;32m     11\u001b[0m         \u001b[0;32mfor\u001b[0m \u001b[0mj\u001b[0m \u001b[0;32min\u001b[0m \u001b[0mrange\u001b[0m\u001b[0;34m(\u001b[0m\u001b[0;36m20\u001b[0m\u001b[0;34m)\u001b[0m\u001b[0;34m:\u001b[0m\u001b[0;34m\u001b[0m\u001b[0;34m\u001b[0m\u001b[0m\n\u001b[0;32m---> 12\u001b[0;31m             \u001b[0mdf\u001b[0m\u001b[0;34m.\u001b[0m\u001b[0mappend\u001b[0m\u001b[0;34m(\u001b[0m\u001b[0maggregate\u001b[0m\u001b[0;34m(\u001b[0m\u001b[0mtemp\u001b[0m\u001b[0;34m,\u001b[0m \u001b[0mj\u001b[0m\u001b[0;34m)\u001b[0m\u001b[0;34m)\u001b[0m\u001b[0;34m\u001b[0m\u001b[0;34m\u001b[0m\u001b[0m\n\u001b[0m\u001b[1;32m     13\u001b[0m     \u001b[0mdic\u001b[0m\u001b[0;34m[\u001b[0m\u001b[0mi\u001b[0m\u001b[0;34m]\u001b[0m \u001b[0;34m=\u001b[0m \u001b[0mdf\u001b[0m\u001b[0;34m\u001b[0m\u001b[0;34m\u001b[0m\u001b[0m\n\u001b[1;32m     14\u001b[0m \u001b[0mprint\u001b[0m\u001b[0;34m(\u001b[0m\u001b[0mdic\u001b[0m\u001b[0;34m)\u001b[0m\u001b[0;34m\u001b[0m\u001b[0;34m\u001b[0m\u001b[0m\n",
      "\u001b[0;32m<ipython-input-27-d81ff5b07901>\u001b[0m in \u001b[0;36maggregate\u001b[0;34m(test_name, rep_num)\u001b[0m\n\u001b[1;32m     29\u001b[0m \u001b[0;34m\u001b[0m\u001b[0m\n\u001b[1;32m     30\u001b[0m \u001b[0;32mdef\u001b[0m \u001b[0maggregate\u001b[0m\u001b[0;34m(\u001b[0m\u001b[0mtest_name\u001b[0m\u001b[0;34m,\u001b[0m \u001b[0mrep_num\u001b[0m\u001b[0;34m)\u001b[0m\u001b[0;34m:\u001b[0m\u001b[0;34m\u001b[0m\u001b[0;34m\u001b[0m\u001b[0m\n\u001b[0;32m---> 31\u001b[0;31m     \u001b[0mrecvfrom\u001b[0m \u001b[0;34m=\u001b[0m \u001b[0mdata\u001b[0m\u001b[0;34m.\u001b[0m\u001b[0mget\u001b[0m\u001b[0;34m(\u001b[0m\u001b[0mtest_name\u001b[0m\u001b[0;34m)\u001b[0m\u001b[0;34m.\u001b[0m\u001b[0mreplicas\u001b[0m\u001b[0;34m[\u001b[0m\u001b[0mrep_num\u001b[0m\u001b[0;34m]\u001b[0m\u001b[0;34m.\u001b[0m\u001b[0mhosts\u001b[0m\u001b[0;34m[\u001b[0m\u001b[0;34m\"client\"\u001b[0m\u001b[0;34m]\u001b[0m\u001b[0;34m.\u001b[0m\u001b[0mrecvfrom\u001b[0m\u001b[0;34m(\u001b[0m\u001b[0;34m)\u001b[0m\u001b[0;34m\u001b[0m\u001b[0;34m\u001b[0m\u001b[0m\n\u001b[0m\u001b[1;32m     32\u001b[0m     \u001b[0msendto\u001b[0m \u001b[0;34m=\u001b[0m \u001b[0mdata\u001b[0m\u001b[0;34m.\u001b[0m\u001b[0mget\u001b[0m\u001b[0;34m(\u001b[0m\u001b[0mtest_name\u001b[0m\u001b[0;34m)\u001b[0m\u001b[0;34m.\u001b[0m\u001b[0mreplicas\u001b[0m\u001b[0;34m[\u001b[0m\u001b[0mrep_num\u001b[0m\u001b[0;34m]\u001b[0m\u001b[0;34m.\u001b[0m\u001b[0mhosts\u001b[0m\u001b[0;34m[\u001b[0m\u001b[0;34m\"client\"\u001b[0m\u001b[0;34m]\u001b[0m\u001b[0;34m.\u001b[0m\u001b[0msendto\u001b[0m\u001b[0;34m(\u001b[0m\u001b[0;34m)\u001b[0m\u001b[0;34m\u001b[0m\u001b[0;34m\u001b[0m\u001b[0m\n\u001b[1;32m     33\u001b[0m     \u001b[0mconnect\u001b[0m \u001b[0;34m=\u001b[0m \u001b[0mdata\u001b[0m\u001b[0;34m.\u001b[0m\u001b[0mget\u001b[0m\u001b[0;34m(\u001b[0m\u001b[0mtest_name\u001b[0m\u001b[0;34m)\u001b[0m\u001b[0;34m.\u001b[0m\u001b[0mreplicas\u001b[0m\u001b[0;34m[\u001b[0m\u001b[0mrep_num\u001b[0m\u001b[0;34m]\u001b[0m\u001b[0;34m.\u001b[0m\u001b[0mhosts\u001b[0m\u001b[0;34m[\u001b[0m\u001b[0;34m\"client\"\u001b[0m\u001b[0;34m]\u001b[0m\u001b[0;34m.\u001b[0m\u001b[0mconnect\u001b[0m\u001b[0;34m(\u001b[0m\u001b[0;34m)\u001b[0m\u001b[0;34m\u001b[0m\u001b[0;34m\u001b[0m\u001b[0m\n",
      "\u001b[0;31mIndexError\u001b[0m: list index out of range"
     ]
    }
   ],
   "source": [
    "dic = {}\n",
    "output = os.listdir('/Users/bhanugarg/Documents/school/cs4365/analysis/working')\n",
    "\n",
    "for i in output:\n",
    "    temp = i.split(\".\",1)[0]\n",
    "    df = pd.DataFrame()\n",
    "    if temp is \"ii-mc-b\":\n",
    "        for j in range(18):\n",
    "            df.append(aggregate(temp, j))\n",
    "    else:   \n",
    "        for j in range(20):\n",
    "            df.append(aggregate(temp, j))\n",
    "    dic[i] = df\n",
    "print(dic)"
   ]
  },
  {
   "cell_type": "code",
   "execution_count": 43,
   "metadata": {},
   "outputs": [
    {
     "name": "stdout",
     "output_type": "stream",
     "text": [
      "                           ii-c-s\n",
      "0    (1587683646067663, 14.67223)\n",
      "1     (1587683648344794, 3.80581)\n",
      "2    (1587683675751308, 9.559722)\n",
      "3    (1587683686296397, 14.40719)\n",
      "4    (1587683706336259, 3.779441)\n",
      "5    (1587683710115476, 4.509164)\n",
      "6    (1587683714611931, 8.638876)\n",
      "7   (1587683714624413, 65.690654)\n",
      "8    (1587683719462133, 3.784821)\n",
      "9    (1587683725008265, 3.478973)\n",
      "10   (1587683733350097, 3.328811)\n",
      "11   (1587683733363152, 4.164124)\n",
      "12   (1587683737957273, 6.767495)\n",
      "13   (1587683745180466, 5.690681)\n",
      "14   (1587683745180742, 5.663974)\n",
      "15  (1587683750871214, 29.431777)\n",
      "16   (1587683757361763, 4.497252)\n",
      "17   (1587683757361827, 5.809438)\n",
      "18   (1587683763171332, 9.093721)\n",
      "19   (1587683765439309, 4.766932)\n",
      "20   (1587683773134324, 7.160767)\n",
      "21   (1587683780303061, 18.20839)\n",
      "22  (1587683780315121, 18.204136)\n",
      "23   (1587683780775347, 5.879156)\n",
      "24   (1587683790747171, 5.031697)\n",
      "25   (1587683798506127, 3.269085)\n",
      "26   (1587683798511503, 3.267978)\n",
      "27  (1587683802123278, 82.497723)\n",
      "28   (1587683803739117, 3.111959)\n",
      "29   (1587683803743294, 3.122793)\n",
      "30   (1587683807095249, 9.223843)\n",
      "31   (1587683816319161, 3.375849)\n",
      "32   (1587683824423938, 9.432995)\n",
      "33   (1587683840623194, 9.943812)\n",
      "34   (1587683841704319, 3.393859)\n",
      "35   (1587683846835078, 3.725955)\n",
      "36   (1587683851739123, 8.299497)\n",
      "37    (1587683864787301, 3.03576)\n",
      "38   (1587683864811204, 6.368117)\n",
      "39   (1587683875098472, 3.043708)\n",
      "40   (1587683879293812, 3.469008)\n",
      "41  (1587683893408621, 15.354668)\n",
      "42   (1587683902314734, 6.444317)\n",
      "43   (1587683911876268, 4.030767)\n",
      "44   (1587683911877178, 4.037912)\n",
      "45  (1587683918835505, 25.259925)\n",
      "46   (1587683927803349, 16.29213)\n",
      "47   (1587683930803140, 4.127628)\n",
      "48    (1587683936727133, 7.43977)\n",
      "49   (1587683937251390, 6.915452)\n"
     ]
    }
   ],
   "source": [
    "print(aggregate('ii-c-s', 19))"
   ]
  },
  {
   "cell_type": "code",
   "execution_count": null,
   "metadata": {},
   "outputs": [],
   "source": []
  }
 ],
 "metadata": {
  "kernelspec": {
   "display_name": "Python 3",
   "language": "python",
   "name": "python3"
  },
  "language_info": {
   "codemirror_mode": {
    "name": "ipython",
    "version": 3
   },
   "file_extension": ".py",
   "mimetype": "text/x-python",
   "name": "python",
   "nbconvert_exporter": "python",
   "pygments_lexer": "ipython3",
   "version": "3.7.4"
  }
 },
 "nbformat": 4,
 "nbformat_minor": 2
}
