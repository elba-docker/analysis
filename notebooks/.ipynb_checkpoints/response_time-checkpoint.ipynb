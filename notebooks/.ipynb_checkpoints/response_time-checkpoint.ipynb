{
 "cells": [
  {
   "cell_type": "code",
   "execution_count": 2,
   "metadata": {},
   "outputs": [
    {
     "name": "stdout",
     "output_type": "stream",
     "text": [
      "/Users/bhanugarg/Documents/school/cs4365/analysis/archive\n",
      "Extracting 10 top level archives on 4 workers\n",
      "Finished\n"
     ]
    }
   ],
   "source": [
    "# Add analysis to the path\n",
    "import sys\n",
    "import pathlib\n",
    "import os\n",
    "import numpy\n",
    "import pandas\n",
    "\n",
    "parent_dir = os.path.join(os.path.abspath(''), \"..\")\n",
    "sys.path.append(parent_dir)\n",
    "\n",
    "import parsers\n",
    "from pprint import pprint\n",
    "\n",
    "path_to_results = os.path.normpath(os.path.join(parent_dir, \"archive\"))\n",
    "print(path_to_results)\n",
    "working_dir = os.path.normpath(os.path.join(parent_dir, \"working\"))\n",
    "data = parsers.main(path_to_results, working_dir=working_dir)\n",
    "print(\"Finished\")"
   ]
  },
  {
   "cell_type": "code",
   "execution_count": 3,
   "metadata": {},
   "outputs": [
    {
     "name": "stdout",
     "output_type": "stream",
     "text": [
      "{'USERNAME': 'jazevedo', 'HOSTS_TYPE': 'physical', 'HARDWARE_TYPE': 'c8220', 'ENABLED_CPUS': 4, 'USE_PATCHED_DOCKER': 1, 'ENABLE_RADVISOR': 0, 'ENABLE_COLLECTL': 1, 'POLLING_INTERVAL': '6s', 'COLLECTION_INTERVAL': 50, 'WEB_HOSTS': 'clnode048.clemson.cloudlab.us', 'POSTGRESQL_HOST': 'clnode054.clemson.cloudlab.us', 'WORKER_HOSTS': 'clnode072.clemson.cloudlab.us', 'MICROBLOG_HOSTS': 'clnode080.clemson.cloudlab.us', 'MICROBLOG_PORT': 9090, 'AUTH_HOSTS': 'clnode062.clemson.cloudlab.us', 'AUTH_PORT': 9091, 'INBOX_HOSTS': 'clnode053.clemson.cloudlab.us', 'INBOX_PORT': 9092, 'QUEUE_HOSTS': 'clnode094.clemson.cloudlab.us', 'QUEUE_PORT': 9093, 'SUB_HOSTS': 'clnode055.clemson.cloudlab.us', 'SUB_PORT': 9094, 'CLIENT_HOSTS': 'clnode095.clemson.cloudlab.us', 'WORKLOAD_CONFIG': 'conf/bursty.yml', 'SESSION_CONFIG': 'conf/session.yml', 'APACHE_PROCESSES': 8, 'APACHE_THREADSPERPROCESS': 4, 'POSTGRES_MAXCONNECTIONS': 175, 'NUM_WORKERS': 32, 'MICROBLOG_THREADPOOLSIZE': 32, 'AUTH_THREADPOOLSIZE': 32, 'INBOX_THREADPOOLSIZE': 32, 'QUEUE_THREADPOOLSIZE': 32, 'SUB_THREADPOOLSIZE': 32, 'WISE_DEBUG': 0}\n"
     ]
    }
   ],
   "source": [
    "print(data.get(\"ii-mc-b\").replicas[0].config())"
   ]
  },
  {
   "cell_type": "code",
   "execution_count": 5,
   "metadata": {},
   "outputs": [],
   "source": [
    "import csv\n",
    "import numpy\n",
    "import sys\n",
    "import pandas as pd\n",
    "\n",
    "class LogEntry:\n",
    "\n",
    "    def __init__(self, event, ts, sock_fd):\n",
    "        self._event = event\n",
    "        self._ts = ts\n",
    "        self._sock_fd = sock_fd\n",
    "\n",
    "    def __lt__(self, other):\n",
    "        return self._ts < other._ts\n",
    "\n",
    "    def event(self):\n",
    "        return self._event\n",
    "\n",
    "    def ts(self):\n",
    "        return self._ts\n",
    "\n",
    "    def sock_fd(self):\n",
    "        return self._sock_fd\n",
    "\n",
    "    def __repr__(self):\n",
    "        return \"[{event} -- TS: {ts}; SOCK_FD: {sock_fd}]\".format(event=self._event, ts=str(self._ts), sock_fd=str(self._sock_fd))\n",
    "\n",
    "    \n",
    "\n",
    "def aggregate(test_name, rep_num):\n",
    "    recvfrom = data.get(test_name).replicas[rep_num].hosts[\"client\"].recvfrom()\n",
    "    sendto = data.get(test_name).replicas[rep_num].hosts[\"client\"].sendto()\n",
    "    connect = data.get(test_name).replicas[rep_num].hosts[\"client\"].connect()\n",
    "\n",
    "    log_entries = []\n",
    "    for i in range(len(connect)):\n",
    "        if int(connect[i].port()) == 80:\n",
    "            log_entries.append(LogEntry(\"connect\", int(connect[i].ts()), int(connect[i].sock_fd())))\n",
    "\n",
    "    for i in range(len(sendto)):     \n",
    "        log_entries.append(LogEntry(\"sendto\", int(sendto[i].ts()), int(sendto[i].sock_fd())))\n",
    "\n",
    "    for i in range(len(recvfrom)):   \n",
    "        log_entries.append(LogEntry(\"recvfrom\", int(recvfrom[i].ts()), int(recvfrom[i].sock_fd())))\n",
    "\n",
    "    log_entries.sort()\n",
    "    requests = []\n",
    "    for i in range(len(log_entries)):\n",
    "        if log_entries[i].event() == \"connect\":\n",
    "            request = [log_entries[i]]\n",
    "            j = i + 1\n",
    "            while j < len(log_entries) and(log_entries[j].event() != \"connect\"or log_entries[i].sock_fd() != log_entries[j].sock_fd()):\n",
    "                if log_entries[i].sock_fd() == log_entries[j].sock_fd():\n",
    "                    request.append(log_entries[j])\n",
    "                j += 1\n",
    "            requests.append(request)\n",
    "\n",
    "    rt_dist = []\n",
    "    for request in requests:\n",
    "        if request[-1].ts() - request[0].ts() > 3000000:\n",
    "            dif = (request[-1].ts() - request[0].ts())/(1000000)\n",
    "            rt_dist.append((request[0].ts(), dif))\n",
    "\n",
    "    df = pd.DataFrame({test_name:rt_dist})\n",
    "    return df"
   ]
  },
  {
   "cell_type": "code",
   "execution_count": null,
   "metadata": {},
   "outputs": [],
   "source": [
    "dic = {}\n",
    "output = os.listdir('/Users/bhanugarg/Documents/school/cs4365/analysis/working')\n",
    "# print(output)\n",
    "\n",
    "for i in output:\n",
    "    temp = [x for x in os.listdir('/Users/bhanugarg/Documents/school/cs4365/analysis/working/' + i + '/results') if \"gz_\" in x]\n",
    "    df = pd.DataFrame()\n",
    "    test_name = i.split(\".\",1)[0]\n",
    "    for j in range(len(temp)):\n",
    "        df.append(aggregate(test_name, j))\n",
    "    dic[i] = df\n",
    "print(dic)\n",
    "    \n",
    "#     length = len(temp)\n",
    "#     for k in temp:\n",
    "#         test_name = i.split(\".\",1)[0]\n",
    "#         for j in range(len(os.listdir('/Users/bhanugarg/Documents/school/cs4365/analysis/working/') + temp)):\n",
    "#             df.append(aggregate(test_name, j))\n",
    "#     dic[i] = df\n",
    "# print(dic)"
   ]
  },
  {
   "cell_type": "code",
   "execution_count": null,
   "metadata": {},
   "outputs": [],
   "source": []
  }
 ],
 "metadata": {
  "kernelspec": {
   "display_name": "Python 3",
   "language": "python",
   "name": "python3"
  },
  "language_info": {
   "codemirror_mode": {
    "name": "ipython",
    "version": 3
   },
   "file_extension": ".py",
   "mimetype": "text/x-python",
   "name": "python",
   "nbconvert_exporter": "python",
   "pygments_lexer": "ipython3",
   "version": "3.7.4"
  }
 },
 "nbformat": 4,
 "nbformat_minor": 2
}
